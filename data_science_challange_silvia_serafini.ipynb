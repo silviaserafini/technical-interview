{
 "cells": [
  {
   "cell_type": "markdown",
   "metadata": {},
   "source": [
    "# Part 1 Experiment design"
   ]
  },
  {
   "cell_type": "markdown",
   "metadata": {},
   "source": [
    "AirBnB management have asked the Data Science team to analyse the impact of the professional photography service in order to determine whether or not they should continue funding the service.\n",
    "Provide full details about how you will run experiments to assess the impact of this service on both hosts and guests. How will you ensure that the experiments are valid and not biased?"
   ]
  },
  {
   "cell_type": "markdown",
   "metadata": {},
   "source": [
    "## 1.1 How I would run the experiment"
   ]
  },
  {
   "cell_type": "markdown",
   "metadata": {},
   "source": [
    "I would run several A/B tests using t-test and p-value evaluation. https://en.wikipedia.org/wiki/A/B_testing\n",
    "  \n",
    "I would consider a sample of size 100 properties of witch 50 would be my test (ads with professional pictures) and 50 my control samples (ads with host phone pictures). I would divide by 2 the time I have to run the experiment, and I would swap the test and control samples.\n",
    "\n",
    "In the exercise text is not specified the time and resources I have to run the experiments. Therefore I will mark with * the high priority KPI. The other metrics are optional.\n",
    "\n",
    "***variables and marketing KPI to evaluate the `host` and `guest` impact:***    \n",
    "  \n",
    "    1.Booking conversion rate *  [host, guest]  \n",
    "    2.Occupancy rate * [host]  \n",
    "    3.Web traffic or Click Through Rate (CTR) * [host]  \n",
    "    4.returning visitors [host, guest]  \n",
    "    5.unique visitors [host, guest]  \n",
    "    6.host avg reveniew [host]  \n",
    "    7.number of messages sent to host [host, guest]  \n",
    "    8.Average Time on Page[host, guest]  \n",
    "    9.sentiment analysis of the reviews [host, guest]: I expect that a guest is more satisfied if he has selected the booking represented by professional and more realistic pictures.    \n",
    "\n",
    "***Performance data by time***\n",
    "I would propose 90 days time period.  \n",
    "\n",
    "***Performance data by region****\n",
    "I would run different experiments with Samples coming from different kind of locations: different states, urban and country areas.   \n",
    "\n",
    "***Performance data by type of booking****\n",
    "I would run different experiments considering only luxury or cheap booking. I expect that a guest is more willing to spend money on a luxury property if it is represented by professional pictures.  \n",
    "\n",
    "\n",
    "sources:https://www.airbnb.co.uk/help/article/2500/how-do-i-track-my-hosting-performance?_set_bev_on_new_domain=1586578155_NDQwZmIxYjMyNjdj\n",
    "https://www.klipfolio.com/resources/kpi-examples/digital-marketing\n",
    "\n",
    "(*)I would run these experiments only if I had enough time and resources"
   ]
  },
  {
   "cell_type": "markdown",
   "metadata": {},
   "source": [
    "## 1.2 How I would ensure that the experiments are valid and not biased"
   ]
  },
  {
   "cell_type": "markdown",
   "metadata": {},
   "source": [
    "bias is the fact that information is not correct because of the method used in collecting or presenting it.\n",
    "In A/B testing experiment, bias could happen in 3 moments: Pre-trial, during-trial and after trial.\n",
    "  \n",
    "***Pre-Trial Bias ***\n",
    "     \n",
    "Selection bias: If I am not running a specific experiment I should make sure that both test and control samples of properties and host I am including are homogeneus (both come from different geographical areas and from different types (cheap, normal, luxury)) \n",
    "\n",
    "Channeling bias:I must make sure that all the ads pictures from test sample are professional pictures and all the control sample are pictures taken by host.\n",
    "\n",
    "***Bias during trial***\n",
    "  \n",
    "Chronology bias: I should monitor the same time period for test and control samples. I could monitor just the working days in order to avoid the holydays bias on my outcome.  \n",
    "\n",
    "Recall bias: my data source (airBnB website) and metrics should be all objective.  \n",
    "\n",
    "Transfer bias: I should make sure that the hosts will continue their activity during all the experiment period.  \n",
    "\n",
    "Exposure Misclassification: frequency of errors should be approximately the same in the groups being compared   \n",
    "\n",
    "Outcome Misclassification: all subjects should be correctly classified with respect to outcome. I should clarely and objectively define the two classes (professional and host pictures) in order to avoid misclassification errors.\n",
    "\n",
    "Performance Bias: if possible, I should run more tests in order to consider separately the different geographical areas, guests types, properties types.  I should make sure that the result is not affected by unpleasant guest experience due to longer waiting time due to the loading of high resolution professional pictures.\n",
    "\n",
    "***Bias after trial***\n",
    "  \n",
    "Citation Bias: I should not consider the benefits as more relevant than the neutral or negative outcames.\n",
    "  \n",
    "Confounding: I should be careful that the results I obtain are not influenced by other factors(like particular  holidays, the strategic position of the property ) that picture quality."
   ]
  },
  {
   "cell_type": "markdown",
   "metadata": {},
   "source": [
    "source: https://www.ncbi.nlm.nih.gov/pmc/articles/PMC2917255/"
   ]
  },
  {
   "cell_type": "markdown",
   "metadata": {},
   "source": [
    "# Part 2  Result analysis"
   ]
  },
  {
   "cell_type": "code",
   "execution_count": 3,
   "metadata": {},
   "outputs": [],
   "source": [
    "import pandas as pd\n",
    "import numpy as np\n",
    "%matplotlib inline\n",
    "from scipy import stats\n",
    "import matplotlib.pyplot as plt\n",
    "import seaborn as sns\n",
    "import datetime\n",
    "import re"
   ]
  },
  {
   "cell_type": "code",
   "execution_count": 4,
   "metadata": {},
   "outputs": [],
   "source": [
    "data=pd.read_json('./data/intervals_challenge.json',lines=True)"
   ]
  },
  {
   "cell_type": "markdown",
   "metadata": {},
   "source": [
    "## 2.1 Exploring the database"
   ]
  },
  {
   "cell_type": "markdown",
   "metadata": {},
   "source": [
    "The database incledes the following columns:\n",
    "\n",
    "type: can be going_to_pickup, waiting_for_rider or driving_to_destination.\n",
    "trip_id: uniquely identifies the trip.\n",
    "duration: how long the interval last, in seconds.\n",
    "distance: how far the vehicle moved in this interval, in meters.\n",
    "city_id: either bravos, pentos and volantis.\n",
    "started_at: when the interval started, UTC Time.\n",
    "vehicle_id: uniquely identifies the vehicle.\n"
   ]
  },
  {
   "cell_type": "code",
   "execution_count": 5,
   "metadata": {},
   "outputs": [
    {
     "data": {
      "text/plain": [
       "Index(['duration', 'distance', 'started_at', 'trip_id', 'vehicle_id',\n",
       "       'city_id', 'type'],\n",
       "      dtype='object')"
      ]
     },
     "execution_count": 5,
     "metadata": {},
     "output_type": "execute_result"
    }
   ],
   "source": [
    "data.columns"
   ]
  },
  {
   "cell_type": "code",
   "execution_count": 6,
   "metadata": {},
   "outputs": [
    {
     "data": {
      "text/html": [
       "<div>\n",
       "<style scoped>\n",
       "    .dataframe tbody tr th:only-of-type {\n",
       "        vertical-align: middle;\n",
       "    }\n",
       "\n",
       "    .dataframe tbody tr th {\n",
       "        vertical-align: top;\n",
       "    }\n",
       "\n",
       "    .dataframe thead th {\n",
       "        text-align: right;\n",
       "    }\n",
       "</style>\n",
       "<table border=\"1\" class=\"dataframe\">\n",
       "  <thead>\n",
       "    <tr style=\"text-align: right;\">\n",
       "      <th></th>\n",
       "      <th>duration</th>\n",
       "      <th>distance</th>\n",
       "      <th>started_at</th>\n",
       "      <th>trip_id</th>\n",
       "      <th>vehicle_id</th>\n",
       "      <th>city_id</th>\n",
       "      <th>type</th>\n",
       "    </tr>\n",
       "  </thead>\n",
       "  <tbody>\n",
       "    <tr>\n",
       "      <th>0</th>\n",
       "      <td>857</td>\n",
       "      <td>5384</td>\n",
       "      <td>2016-10-03 13:00:00.286999941</td>\n",
       "      <td>c00cee6963e0dc66e50e271239426914</td>\n",
       "      <td>52d38cf1a3240d5cbdcf730f2d9a47d6</td>\n",
       "      <td>pentos</td>\n",
       "      <td>driving_to_destination</td>\n",
       "    </tr>\n",
       "    <tr>\n",
       "      <th>1</th>\n",
       "      <td>245</td>\n",
       "      <td>1248</td>\n",
       "      <td>2016-10-03 13:00:00.852999926</td>\n",
       "      <td>427425e1f4318ca2461168bdd6e4fcbd</td>\n",
       "      <td>8336b28f24c3e7a1e3d582073b164895</td>\n",
       "      <td>volantis</td>\n",
       "      <td>going_to_pickup</td>\n",
       "    </tr>\n",
       "    <tr>\n",
       "      <th>2</th>\n",
       "      <td>1249</td>\n",
       "      <td>5847</td>\n",
       "      <td>2016-10-03 13:00:01.670000076</td>\n",
       "      <td>757867f6d7c00ef92a65bfaa3895943f</td>\n",
       "      <td>8885c59374cc539163e83f01ed59fd16</td>\n",
       "      <td>pentos</td>\n",
       "      <td>driving_to_destination</td>\n",
       "    </tr>\n",
       "    <tr>\n",
       "      <th>3</th>\n",
       "      <td>471</td>\n",
       "      <td>2585</td>\n",
       "      <td>2016-10-03 13:00:01.841000080</td>\n",
       "      <td>d09d1301d361f7359d0d936557d10f89</td>\n",
       "      <td>81b63920454f70b6755a494e3b28b3a7</td>\n",
       "      <td>bravos</td>\n",
       "      <td>going_to_pickup</td>\n",
       "    </tr>\n",
       "    <tr>\n",
       "      <th>4</th>\n",
       "      <td>182</td>\n",
       "      <td>743</td>\n",
       "      <td>2016-10-03 13:00:01.970000029</td>\n",
       "      <td>00f20a701f0ec2519353ef3ffaf75068</td>\n",
       "      <td>b73030977cbad61c9db55418909864fa</td>\n",
       "      <td>pentos</td>\n",
       "      <td>going_to_pickup</td>\n",
       "    </tr>\n",
       "  </tbody>\n",
       "</table>\n",
       "</div>"
      ],
      "text/plain": [
       "  duration distance                    started_at  \\\n",
       "0      857     5384 2016-10-03 13:00:00.286999941   \n",
       "1      245     1248 2016-10-03 13:00:00.852999926   \n",
       "2     1249     5847 2016-10-03 13:00:01.670000076   \n",
       "3      471     2585 2016-10-03 13:00:01.841000080   \n",
       "4      182      743 2016-10-03 13:00:01.970000029   \n",
       "\n",
       "                            trip_id                        vehicle_id  \\\n",
       "0  c00cee6963e0dc66e50e271239426914  52d38cf1a3240d5cbdcf730f2d9a47d6   \n",
       "1  427425e1f4318ca2461168bdd6e4fcbd  8336b28f24c3e7a1e3d582073b164895   \n",
       "2  757867f6d7c00ef92a65bfaa3895943f  8885c59374cc539163e83f01ed59fd16   \n",
       "3  d09d1301d361f7359d0d936557d10f89  81b63920454f70b6755a494e3b28b3a7   \n",
       "4  00f20a701f0ec2519353ef3ffaf75068  b73030977cbad61c9db55418909864fa   \n",
       "\n",
       "    city_id                    type  \n",
       "0    pentos  driving_to_destination  \n",
       "1  volantis         going_to_pickup  \n",
       "2    pentos  driving_to_destination  \n",
       "3    bravos         going_to_pickup  \n",
       "4    pentos         going_to_pickup  "
      ]
     },
     "execution_count": 6,
     "metadata": {},
     "output_type": "execute_result"
    }
   ],
   "source": [
    "data.head()"
   ]
  },
  {
   "cell_type": "code",
   "execution_count": 7,
   "metadata": {},
   "outputs": [
    {
     "data": {
      "text/plain": [
       "duration              object\n",
       "distance              object\n",
       "started_at    datetime64[ns]\n",
       "trip_id               object\n",
       "vehicle_id            object\n",
       "city_id               object\n",
       "type                  object\n",
       "dtype: object"
      ]
     },
     "execution_count": 7,
     "metadata": {},
     "output_type": "execute_result"
    }
   ],
   "source": [
    "#data types\n",
    "data.dtypes"
   ]
  },
  {
   "cell_type": "code",
   "execution_count": 8,
   "metadata": {},
   "outputs": [
    {
     "data": {
      "text/plain": [
       "duration      0\n",
       "distance      0\n",
       "started_at    0\n",
       "trip_id       0\n",
       "vehicle_id    0\n",
       "city_id       0\n",
       "type          0\n",
       "dtype: int64"
      ]
     },
     "execution_count": 8,
     "metadata": {},
     "output_type": "execute_result"
    }
   ],
   "source": [
    "#null values\n",
    "data.isnull().sum()"
   ]
  },
  {
   "cell_type": "markdown",
   "metadata": {},
   "source": [
    "## 2.2 Database Cleaning"
   ]
  },
  {
   "cell_type": "markdown",
   "metadata": {},
   "source": [
    "In order to perform an A/B test, and gain more information, I need to:  \n",
    "1.check the unique values of categorical columns  \n",
    "2.perform some engineering operations to the columns of the database:  \n",
    "    -`duration` and `distance` should be of type integer\n",
    "    -`started_at` can be split in year-month-day-hour"
   ]
  },
  {
   "cell_type": "code",
   "execution_count": 9,
   "metadata": {},
   "outputs": [
    {
     "data": {
      "text/plain": [
       "going_to_pickup           58510\n",
       "waiting_for_rider         53746\n",
       "driving_to_destination    52914\n",
       "Name: type, dtype: int64"
      ]
     },
     "execution_count": 9,
     "metadata": {},
     "output_type": "execute_result"
    }
   ],
   "source": [
    "#column type\n",
    "data['type'].value_counts()\n"
   ]
  },
  {
   "cell_type": "markdown",
   "metadata": {},
   "source": [
    "I have different numbers for the 3 labels. This means that I don't have complete sequence going-to-pickup-waiting-for-rider-driving-to-destination. In this case I should keep just the 'going_to_pickup' and 'driving to destination' data and treat them as separate data."
   ]
  },
  {
   "cell_type": "code",
   "execution_count": 10,
   "metadata": {},
   "outputs": [
    {
     "data": {
      "text/plain": [
       "pentos      113684\n",
       "volantis     35611\n",
       "bravos       15875\n",
       "Name: city_id, dtype: int64"
      ]
     },
     "execution_count": 10,
     "metadata": {},
     "output_type": "execute_result"
    }
   ],
   "source": [
    "#column city_id\n",
    "data['city_id'].value_counts()"
   ]
  },
  {
   "cell_type": "markdown",
   "metadata": {},
   "source": [
    "Most of the dataset comes from Pentos rides. Bravo is the least represented."
   ]
  },
  {
   "cell_type": "code",
   "execution_count": 11,
   "metadata": {},
   "outputs": [
    {
     "data": {
      "text/html": [
       "<div>\n",
       "<style scoped>\n",
       "    .dataframe tbody tr th:only-of-type {\n",
       "        vertical-align: middle;\n",
       "    }\n",
       "\n",
       "    .dataframe tbody tr th {\n",
       "        vertical-align: top;\n",
       "    }\n",
       "\n",
       "    .dataframe thead th {\n",
       "        text-align: right;\n",
       "    }\n",
       "</style>\n",
       "<table border=\"1\" class=\"dataframe\">\n",
       "  <thead>\n",
       "    <tr style=\"text-align: right;\">\n",
       "      <th></th>\n",
       "      <th>duration</th>\n",
       "      <th>distance</th>\n",
       "      <th>started_at</th>\n",
       "      <th>trip_id</th>\n",
       "      <th>vehicle_id</th>\n",
       "      <th>city_id</th>\n",
       "      <th>type</th>\n",
       "      <th>started_at_year</th>\n",
       "      <th>started_at_month</th>\n",
       "      <th>started_at_day</th>\n",
       "      <th>started_at_hour</th>\n",
       "    </tr>\n",
       "  </thead>\n",
       "  <tbody>\n",
       "    <tr>\n",
       "      <th>0</th>\n",
       "      <td>857</td>\n",
       "      <td>5384</td>\n",
       "      <td>2016-10-03 13:00:00.286999941</td>\n",
       "      <td>c00cee6963e0dc66e50e271239426914</td>\n",
       "      <td>52d38cf1a3240d5cbdcf730f2d9a47d6</td>\n",
       "      <td>pentos</td>\n",
       "      <td>driving_to_destination</td>\n",
       "      <td>2016</td>\n",
       "      <td>10</td>\n",
       "      <td>3</td>\n",
       "      <td>13</td>\n",
       "    </tr>\n",
       "    <tr>\n",
       "      <th>1</th>\n",
       "      <td>245</td>\n",
       "      <td>1248</td>\n",
       "      <td>2016-10-03 13:00:00.852999926</td>\n",
       "      <td>427425e1f4318ca2461168bdd6e4fcbd</td>\n",
       "      <td>8336b28f24c3e7a1e3d582073b164895</td>\n",
       "      <td>volantis</td>\n",
       "      <td>going_to_pickup</td>\n",
       "      <td>2016</td>\n",
       "      <td>10</td>\n",
       "      <td>3</td>\n",
       "      <td>13</td>\n",
       "    </tr>\n",
       "    <tr>\n",
       "      <th>2</th>\n",
       "      <td>1249</td>\n",
       "      <td>5847</td>\n",
       "      <td>2016-10-03 13:00:01.670000076</td>\n",
       "      <td>757867f6d7c00ef92a65bfaa3895943f</td>\n",
       "      <td>8885c59374cc539163e83f01ed59fd16</td>\n",
       "      <td>pentos</td>\n",
       "      <td>driving_to_destination</td>\n",
       "      <td>2016</td>\n",
       "      <td>10</td>\n",
       "      <td>3</td>\n",
       "      <td>13</td>\n",
       "    </tr>\n",
       "    <tr>\n",
       "      <th>3</th>\n",
       "      <td>471</td>\n",
       "      <td>2585</td>\n",
       "      <td>2016-10-03 13:00:01.841000080</td>\n",
       "      <td>d09d1301d361f7359d0d936557d10f89</td>\n",
       "      <td>81b63920454f70b6755a494e3b28b3a7</td>\n",
       "      <td>bravos</td>\n",
       "      <td>going_to_pickup</td>\n",
       "      <td>2016</td>\n",
       "      <td>10</td>\n",
       "      <td>3</td>\n",
       "      <td>13</td>\n",
       "    </tr>\n",
       "    <tr>\n",
       "      <th>4</th>\n",
       "      <td>182</td>\n",
       "      <td>743</td>\n",
       "      <td>2016-10-03 13:00:01.970000029</td>\n",
       "      <td>00f20a701f0ec2519353ef3ffaf75068</td>\n",
       "      <td>b73030977cbad61c9db55418909864fa</td>\n",
       "      <td>pentos</td>\n",
       "      <td>going_to_pickup</td>\n",
       "      <td>2016</td>\n",
       "      <td>10</td>\n",
       "      <td>3</td>\n",
       "      <td>13</td>\n",
       "    </tr>\n",
       "  </tbody>\n",
       "</table>\n",
       "</div>"
      ],
      "text/plain": [
       "  duration distance                    started_at  \\\n",
       "0      857     5384 2016-10-03 13:00:00.286999941   \n",
       "1      245     1248 2016-10-03 13:00:00.852999926   \n",
       "2     1249     5847 2016-10-03 13:00:01.670000076   \n",
       "3      471     2585 2016-10-03 13:00:01.841000080   \n",
       "4      182      743 2016-10-03 13:00:01.970000029   \n",
       "\n",
       "                            trip_id                        vehicle_id  \\\n",
       "0  c00cee6963e0dc66e50e271239426914  52d38cf1a3240d5cbdcf730f2d9a47d6   \n",
       "1  427425e1f4318ca2461168bdd6e4fcbd  8336b28f24c3e7a1e3d582073b164895   \n",
       "2  757867f6d7c00ef92a65bfaa3895943f  8885c59374cc539163e83f01ed59fd16   \n",
       "3  d09d1301d361f7359d0d936557d10f89  81b63920454f70b6755a494e3b28b3a7   \n",
       "4  00f20a701f0ec2519353ef3ffaf75068  b73030977cbad61c9db55418909864fa   \n",
       "\n",
       "    city_id                    type  started_at_year  started_at_month  \\\n",
       "0    pentos  driving_to_destination             2016                10   \n",
       "1  volantis         going_to_pickup             2016                10   \n",
       "2    pentos  driving_to_destination             2016                10   \n",
       "3    bravos         going_to_pickup             2016                10   \n",
       "4    pentos         going_to_pickup             2016                10   \n",
       "\n",
       "   started_at_day  started_at_hour  \n",
       "0               3               13  \n",
       "1               3               13  \n",
       "2               3               13  \n",
       "3               3               13  \n",
       "4               3               13  "
      ]
     },
     "execution_count": 11,
     "metadata": {},
     "output_type": "execute_result"
    }
   ],
   "source": [
    "#splitting column started_at in year-month-day-hour\n",
    "def extract_date(df,col):\n",
    "    df[col+'_year']=df[col].apply(lambda x : x.year)\n",
    "    df[col+'_month']=df[col].apply(lambda x : x.month)\n",
    "    df[col+'_day']=df[col].apply(lambda x : x.day)\n",
    "    df[col+'_hour']=df[col].apply(lambda x : x.hour)\n",
    "extract_date(data,'started_at') \n",
    "data.head()"
   ]
  },
  {
   "cell_type": "code",
   "execution_count": 12,
   "metadata": {},
   "outputs": [
    {
     "data": {
      "text/plain": [
       "array([2016])"
      ]
     },
     "execution_count": 12,
     "metadata": {},
     "output_type": "execute_result"
    }
   ],
   "source": [
    "data['started_at_year'].unique()"
   ]
  },
  {
   "cell_type": "code",
   "execution_count": 13,
   "metadata": {},
   "outputs": [
    {
     "data": {
      "text/plain": [
       "array([10])"
      ]
     },
     "execution_count": 13,
     "metadata": {},
     "output_type": "execute_result"
    }
   ],
   "source": [
    "data['started_at_month'].unique()"
   ]
  },
  {
   "cell_type": "code",
   "execution_count": 14,
   "metadata": {},
   "outputs": [
    {
     "data": {
      "text/plain": [
       "array([3, 4])"
      ]
     },
     "execution_count": 14,
     "metadata": {},
     "output_type": "execute_result"
    }
   ],
   "source": [
    "data['started_at_day'].unique()"
   ]
  },
  {
   "cell_type": "code",
   "execution_count": 15,
   "metadata": {},
   "outputs": [
    {
     "data": {
      "text/plain": [
       "<matplotlib.axes._subplots.AxesSubplot at 0x11d14fa58>"
      ]
     },
     "execution_count": 15,
     "metadata": {},
     "output_type": "execute_result"
    },
    {
     "data": {
      "image/png": "[encoded data removed]",
      "text/plain": [
       "<Figure size 432x288 with 1 Axes>"
      ]
     },
     "metadata": {},
     "output_type": "display_data"
    }
   ],
   "source": [
    "df = data.sort_values(['started_at_hour'])\n",
    "data.groupby(['started_at_hour']).agg({'started_at_hour':'count'}).plot.bar()"
   ]
  },
  {
   "cell_type": "markdown",
   "metadata": {},
   "source": [
    "We can see that the database contains only data from of 3-4 of October 2016. Most of the rides are day-rides:(13-20)"
   ]
  },
  {
   "cell_type": "code",
   "execution_count": 16,
   "metadata": {},
   "outputs": [
    {
     "data": {
      "text/plain": [
       "duration                    object\n",
       "distance                     int64\n",
       "started_at          datetime64[ns]\n",
       "trip_id                     object\n",
       "vehicle_id                  object\n",
       "city_id                     object\n",
       "type                        object\n",
       "started_at_year              int64\n",
       "started_at_month             int64\n",
       "started_at_day               int64\n",
       "started_at_hour              int64\n",
       "dtype: object"
      ]
     },
     "execution_count": 16,
     "metadata": {},
     "output_type": "execute_result"
    }
   ],
   "source": [
    "#column distance: to int type\n",
    "filter1=pd.to_numeric(data['distance'], errors='coerce').isnull()\n",
    "df=data[~filter1]\n",
    "df = df.astype({\"distance\": int})\n",
    "df.dtypes"
   ]
  },
  {
   "cell_type": "code",
   "execution_count": 17,
   "metadata": {},
   "outputs": [
    {
     "data": {
      "text/plain": [
       "duration                     int64\n",
       "distance                     int64\n",
       "started_at          datetime64[ns]\n",
       "trip_id                     object\n",
       "vehicle_id                  object\n",
       "city_id                     object\n",
       "type                        object\n",
       "started_at_year              int64\n",
       "started_at_month             int64\n",
       "started_at_day               int64\n",
       "started_at_hour              int64\n",
       "dtype: object"
      ]
     },
     "execution_count": 17,
     "metadata": {},
     "output_type": "execute_result"
    }
   ],
   "source": [
    "#column duration: to int type\n",
    "filter1=pd.to_numeric(df['duration'], errors='coerce').isnull()\n",
    "df_clean=df[~filter1]\n",
    "df_clean = df_clean.astype({\"duration\": int})\n",
    "df_clean.dtypes"
   ]
  },
  {
   "cell_type": "code",
   "execution_count": 18,
   "metadata": {},
   "outputs": [
    {
     "data": {
      "text/html": [
       "<div>\n",
       "<style scoped>\n",
       "    .dataframe tbody tr th:only-of-type {\n",
       "        vertical-align: middle;\n",
       "    }\n",
       "\n",
       "    .dataframe tbody tr th {\n",
       "        vertical-align: top;\n",
       "    }\n",
       "\n",
       "    .dataframe thead th {\n",
       "        text-align: right;\n",
       "    }\n",
       "</style>\n",
       "<table border=\"1\" class=\"dataframe\">\n",
       "  <thead>\n",
       "    <tr style=\"text-align: right;\">\n",
       "      <th></th>\n",
       "      <th>duration</th>\n",
       "      <th>distance</th>\n",
       "      <th>started_at_year</th>\n",
       "      <th>started_at_month</th>\n",
       "      <th>started_at_day</th>\n",
       "      <th>started_at_hour</th>\n",
       "    </tr>\n",
       "  </thead>\n",
       "  <tbody>\n",
       "    <tr>\n",
       "      <th>count</th>\n",
       "      <td>164013.000000</td>\n",
       "      <td>1.640130e+05</td>\n",
       "      <td>164013.0</td>\n",
       "      <td>164013.0</td>\n",
       "      <td>164013.000000</td>\n",
       "      <td>164013.000000</td>\n",
       "    </tr>\n",
       "    <tr>\n",
       "      <th>mean</th>\n",
       "      <td>432.959534</td>\n",
       "      <td>1.944164e+03</td>\n",
       "      <td>2016.0</td>\n",
       "      <td>10.0</td>\n",
       "      <td>3.548847</td>\n",
       "      <td>15.135331</td>\n",
       "    </tr>\n",
       "    <tr>\n",
       "      <th>std</th>\n",
       "      <td>559.097970</td>\n",
       "      <td>7.230917e+03</td>\n",
       "      <td>0.0</td>\n",
       "      <td>0.0</td>\n",
       "      <td>0.497610</td>\n",
       "      <td>5.599166</td>\n",
       "    </tr>\n",
       "    <tr>\n",
       "      <th>min</th>\n",
       "      <td>0.000000</td>\n",
       "      <td>0.000000e+00</td>\n",
       "      <td>2016.0</td>\n",
       "      <td>10.0</td>\n",
       "      <td>3.000000</td>\n",
       "      <td>0.000000</td>\n",
       "    </tr>\n",
       "    <tr>\n",
       "      <th>25%</th>\n",
       "      <td>55.000000</td>\n",
       "      <td>1.900000e+01</td>\n",
       "      <td>2016.0</td>\n",
       "      <td>10.0</td>\n",
       "      <td>3.000000</td>\n",
       "      <td>13.000000</td>\n",
       "    </tr>\n",
       "    <tr>\n",
       "      <th>50%</th>\n",
       "      <td>246.000000</td>\n",
       "      <td>6.080000e+02</td>\n",
       "      <td>2016.0</td>\n",
       "      <td>10.0</td>\n",
       "      <td>4.000000</td>\n",
       "      <td>16.000000</td>\n",
       "    </tr>\n",
       "    <tr>\n",
       "      <th>75%</th>\n",
       "      <td>616.000000</td>\n",
       "      <td>2.349000e+03</td>\n",
       "      <td>2016.0</td>\n",
       "      <td>10.0</td>\n",
       "      <td>4.000000</td>\n",
       "      <td>19.000000</td>\n",
       "    </tr>\n",
       "    <tr>\n",
       "      <th>max</th>\n",
       "      <td>48654.000000</td>\n",
       "      <td>1.218089e+06</td>\n",
       "      <td>2016.0</td>\n",
       "      <td>10.0</td>\n",
       "      <td>4.000000</td>\n",
       "      <td>23.000000</td>\n",
       "    </tr>\n",
       "  </tbody>\n",
       "</table>\n",
       "</div>"
      ],
      "text/plain": [
       "            duration      distance  started_at_year  started_at_month  \\\n",
       "count  164013.000000  1.640130e+05         164013.0          164013.0   \n",
       "mean      432.959534  1.944164e+03           2016.0              10.0   \n",
       "std       559.097970  7.230917e+03              0.0               0.0   \n",
       "min         0.000000  0.000000e+00           2016.0              10.0   \n",
       "25%        55.000000  1.900000e+01           2016.0              10.0   \n",
       "50%       246.000000  6.080000e+02           2016.0              10.0   \n",
       "75%       616.000000  2.349000e+03           2016.0              10.0   \n",
       "max     48654.000000  1.218089e+06           2016.0              10.0   \n",
       "\n",
       "       started_at_day  started_at_hour  \n",
       "count   164013.000000    164013.000000  \n",
       "mean         3.548847        15.135331  \n",
       "std          0.497610         5.599166  \n",
       "min          3.000000         0.000000  \n",
       "25%          3.000000        13.000000  \n",
       "50%          4.000000        16.000000  \n",
       "75%          4.000000        19.000000  \n",
       "max          4.000000        23.000000  "
      ]
     },
     "execution_count": 18,
     "metadata": {},
     "output_type": "execute_result"
    }
   ],
   "source": [
    "#check for outliars in numerical columns\n",
    "df_clean._get_numeric_data().describe()"
   ]
  },
  {
   "cell_type": "markdown",
   "metadata": {},
   "source": [
    "I can see I have some 0 values in the columns duration and distance. I will drop this rows since I can't use them for the test."
   ]
  },
  {
   "cell_type": "code",
   "execution_count": 19,
   "metadata": {},
   "outputs": [],
   "source": [
    "def remove_outliers(col,df):\n",
    "    q_low = df[col].quantile(0.01)\n",
    "    q_hi  = df[col].quantile(0.99)\n",
    "\n",
    "    df_filtered = df[(df[col] < q_hi) & (df[col] > q_low)]\n",
    "    return df_filtered\n",
    "\n",
    "df_clean_new= remove_outliers('duration',df_clean)\n",
    "df_clean_new= remove_outliers('distance',df_clean_new)"
   ]
  },
  {
   "cell_type": "code",
   "execution_count": 20,
   "metadata": {},
   "outputs": [
    {
     "data": {
      "text/html": [
       "<div>\n",
       "<style scoped>\n",
       "    .dataframe tbody tr th:only-of-type {\n",
       "        vertical-align: middle;\n",
       "    }\n",
       "\n",
       "    .dataframe tbody tr th {\n",
       "        vertical-align: top;\n",
       "    }\n",
       "\n",
       "    .dataframe thead th {\n",
       "        text-align: right;\n",
       "    }\n",
       "</style>\n",
       "<table border=\"1\" class=\"dataframe\">\n",
       "  <thead>\n",
       "    <tr style=\"text-align: right;\">\n",
       "      <th></th>\n",
       "      <th>duration</th>\n",
       "      <th>distance</th>\n",
       "      <th>started_at_year</th>\n",
       "      <th>started_at_month</th>\n",
       "      <th>started_at_day</th>\n",
       "      <th>started_at_hour</th>\n",
       "    </tr>\n",
       "  </thead>\n",
       "  <tbody>\n",
       "    <tr>\n",
       "      <th>count</th>\n",
       "      <td>143435.000000</td>\n",
       "      <td>143435.000000</td>\n",
       "      <td>143435.0</td>\n",
       "      <td>143435.0</td>\n",
       "      <td>143435.000000</td>\n",
       "      <td>143435.000000</td>\n",
       "    </tr>\n",
       "    <tr>\n",
       "      <th>mean</th>\n",
       "      <td>436.615477</td>\n",
       "      <td>1734.014118</td>\n",
       "      <td>2016.0</td>\n",
       "      <td>10.0</td>\n",
       "      <td>3.548555</td>\n",
       "      <td>15.176972</td>\n",
       "    </tr>\n",
       "    <tr>\n",
       "      <th>std</th>\n",
       "      <td>442.682914</td>\n",
       "      <td>2328.032261</td>\n",
       "      <td>0.0</td>\n",
       "      <td>0.0</td>\n",
       "      <td>0.497639</td>\n",
       "      <td>5.553673</td>\n",
       "    </tr>\n",
       "    <tr>\n",
       "      <th>min</th>\n",
       "      <td>4.000000</td>\n",
       "      <td>1.000000</td>\n",
       "      <td>2016.0</td>\n",
       "      <td>10.0</td>\n",
       "      <td>3.000000</td>\n",
       "      <td>0.000000</td>\n",
       "    </tr>\n",
       "    <tr>\n",
       "      <th>25%</th>\n",
       "      <td>103.000000</td>\n",
       "      <td>60.000000</td>\n",
       "      <td>2016.0</td>\n",
       "      <td>10.0</td>\n",
       "      <td>3.000000</td>\n",
       "      <td>13.000000</td>\n",
       "    </tr>\n",
       "    <tr>\n",
       "      <th>50%</th>\n",
       "      <td>287.000000</td>\n",
       "      <td>778.000000</td>\n",
       "      <td>2016.0</td>\n",
       "      <td>10.0</td>\n",
       "      <td>4.000000</td>\n",
       "      <td>16.000000</td>\n",
       "    </tr>\n",
       "    <tr>\n",
       "      <th>75%</th>\n",
       "      <td>642.000000</td>\n",
       "      <td>2492.000000</td>\n",
       "      <td>2016.0</td>\n",
       "      <td>10.0</td>\n",
       "      <td>4.000000</td>\n",
       "      <td>19.000000</td>\n",
       "    </tr>\n",
       "    <tr>\n",
       "      <th>max</th>\n",
       "      <td>2356.000000</td>\n",
       "      <td>13260.000000</td>\n",
       "      <td>2016.0</td>\n",
       "      <td>10.0</td>\n",
       "      <td>4.000000</td>\n",
       "      <td>23.000000</td>\n",
       "    </tr>\n",
       "  </tbody>\n",
       "</table>\n",
       "</div>"
      ],
      "text/plain": [
       "            duration       distance  started_at_year  started_at_month  \\\n",
       "count  143435.000000  143435.000000         143435.0          143435.0   \n",
       "mean      436.615477    1734.014118           2016.0              10.0   \n",
       "std       442.682914    2328.032261              0.0               0.0   \n",
       "min         4.000000       1.000000           2016.0              10.0   \n",
       "25%       103.000000      60.000000           2016.0              10.0   \n",
       "50%       287.000000     778.000000           2016.0              10.0   \n",
       "75%       642.000000    2492.000000           2016.0              10.0   \n",
       "max      2356.000000   13260.000000           2016.0              10.0   \n",
       "\n",
       "       started_at_day  started_at_hour  \n",
       "count   143435.000000    143435.000000  \n",
       "mean         3.548555        15.176972  \n",
       "std          0.497639         5.553673  \n",
       "min          3.000000         0.000000  \n",
       "25%          3.000000        13.000000  \n",
       "50%          4.000000        16.000000  \n",
       "75%          4.000000        19.000000  \n",
       "max          4.000000        23.000000  "
      ]
     },
     "execution_count": 20,
     "metadata": {},
     "output_type": "execute_result"
    }
   ],
   "source": [
    "df_clean_new.describe()"
   ]
  },
  {
   "cell_type": "code",
   "execution_count": 21,
   "metadata": {},
   "outputs": [],
   "source": [
    "#Building of linear or road label column\n",
    "#Trips whose trip_id starts with digits 0-8 were assigned using road distance.\n",
    "#Trips whose trip_id starts with digits 9-f were assigned using linear distance.\n",
    "def label(x):\n",
    "    if bool(re.match(r'^[0-8]', x)):\n",
    "        return 'road'\n",
    "    else:\n",
    "        return 'linear'\n",
    "df_clean_new['distance_measure']=df_clean_new['trip_id'].apply(label)"
   ]
  },
  {
   "cell_type": "code",
   "execution_count": 22,
   "metadata": {},
   "outputs": [
    {
     "data": {
      "text/plain": [
       "road      81325\n",
       "linear    62110\n",
       "Name: distance_measure, dtype: int64"
      ]
     },
     "execution_count": 22,
     "metadata": {},
     "output_type": "execute_result"
    }
   ],
   "source": [
    "df_clean_new['distance_measure'].value_counts()"
   ]
  },
  {
   "cell_type": "markdown",
   "metadata": {},
   "source": [
    "# 3 Challange"
   ]
  },
  {
   "cell_type": "markdown",
   "metadata": {},
   "source": [
    "1.Should the company move towards road distance? What's the max price it would make sense to pay per query? (make all the assumptions you need, and make them explicit)"
   ]
  },
  {
   "cell_type": "markdown",
   "metadata": {},
   "source": [
    "'linear': haversine distance between the pickup point and each of the available vehicles  \n",
    "  \n",
    "'road': query to an external real time maps API that not only has roads, but also knows realtime traffic information."
   ]
  },
  {
   "cell_type": "markdown",
   "metadata": {},
   "source": [
    "## 3.1 Global check (all city and time included)"
   ]
  },
  {
   "cell_type": "markdown",
   "metadata": {},
   "source": [
    "The company should move towards road distance if this assignation method makes reaching the destination significantly faster than the assignation with linear distance, so the taxi can perform more rides.  \n",
    "To prove this I should run a One-sided hypothesis test\\* on the variable speed (distance/duration) of\n",
    "**going_to_pickup** rows:\n",
    "   \n",
    "**Null hypothesis $H_0$**: avg durance is $the$ $same$ for road and linear distance assignations  \n",
    "  \n",
    "**Alternative hypothesis $H_1$**:avg speed is $smaller$ for road distance assignation\n",
    "\n",
    "*One-sided alternative hypothesis (a.k.a. directional hypothesis) used to determine whether the population average differs from the hypothesized value in a specific direction (smaller but not larger than)\n",
    " "
   ]
  },
  {
   "cell_type": "code",
   "execution_count": 23,
   "metadata": {},
   "outputs": [],
   "source": [
    "df_clean_new['speed']=df_clean_new['distance']/df_clean_new['duration']"
   ]
  },
  {
   "cell_type": "code",
   "execution_count": 24,
   "metadata": {},
   "outputs": [],
   "source": [
    "filter2=df_clean_new.type=='going_to_pickup'\n",
    "df_clean_new=df_clean_new[filter2]"
   ]
  },
  {
   "cell_type": "code",
   "execution_count": 103,
   "metadata": {},
   "outputs": [
    {
     "data": {
      "text/plain": [
       "'--> We cannot reject the null hypotesis'"
      ]
     },
     "execution_count": 103,
     "metadata": {},
     "output_type": "execute_result"
    }
   ],
   "source": [
    "#A and B group\n",
    "\n",
    "filter3=df_clean_new['distance_measure']=='road'\n",
    "road=df_clean_new[filter3].speed\n",
    "linear=df_clean_new[~filter3].speed\n",
    "\n",
    "#t test\n",
    "res=stats.ttest_ind(road, linear)\n",
    "\n",
    "checkPValue = lambda p,threshold=0.05: \"--> Null(H0) hypotesis rejected\" if p < threshold else \"--> We cannot reject the null hypotesis\"\n",
    "\n",
    "checkPValue(res[1]/2)"
   ]
  },
  {
   "cell_type": "code",
   "execution_count": 104,
   "metadata": {},
   "outputs": [
    {
     "name": "stdout",
     "output_type": "stream",
     "text": [
      "pvalue= 0.2445792859410183\n"
     ]
    }
   ],
   "source": [
    "print('pvalue=',res[1]/2)"
   ]
  },
  {
   "cell_type": "markdown",
   "metadata": {},
   "source": [
    "According to the test **the p-value is larger than 5%**, the odds are quicker rides are due to chance. The 'road' method of pickup assignement speed is not significatively smaller than  the 'linear' method of pickup assignement speed. "
   ]
  },
  {
   "cell_type": "code",
   "execution_count": 26,
   "metadata": {},
   "outputs": [
    {
     "data": {
      "text/plain": [
       "[Text(0, 0.5, 'speed [m/s]'), Text(0.5, 0, 'hour')]"
      ]
     },
     "execution_count": 26,
     "metadata": {},
     "output_type": "execute_result"
    },
    {
     "data": {
      "image/png": "[encoded data removed]",
      "text/plain": [
       "<Figure size 1080x720 with 1 Axes>"
      ]
     },
     "metadata": {},
     "output_type": "display_data"
    }
   ],
   "source": [
    "plt.figure(figsize=(15,10))\n",
    "fig=sns.lineplot(x='started_at_hour', y='speed', hue='distance_measure', data=df_clean_new)\n",
    "plt.title('global_speed_check')\n",
    "fig.set(xlabel='hour', ylabel='speed [m/s]')"
   ]
  },
  {
   "cell_type": "markdown",
   "metadata": {},
   "source": [
    "The graph confirms the test outcome: there is not a general tendency for the avg speed considering the `linear` or the `road` assignation methods."
   ]
  },
  {
   "cell_type": "markdown",
   "metadata": {},
   "source": [
    "## 3.2 Geographical check "
   ]
  },
  {
   "cell_type": "markdown",
   "metadata": {},
   "source": [
    "H1: in the city `<city_name>` the pickups assigned with the api query are significantly faster"
   ]
  },
  {
   "cell_type": "code",
   "execution_count": 69,
   "metadata": {},
   "outputs": [],
   "source": [
    "filter4=df_clean_new['city_id']=='pentos'\n",
    "filter5=df_clean_new['city_id']=='bravos'\n",
    "filter6=df_clean_new['city_id']=='volantis'\n",
    "\n",
    "pentos=df_clean_new[filter4]\n",
    "pentos_road=pento[pento['distance_measure']=='road'].speed\n",
    "pentos_linear=pento[pento['distance_measure']=='linear'].speed\n",
    "\n",
    "bravos=df_clean_new[filter5]\n",
    "bravos_road=bravo[bravo['distance_measure']=='road'].speed\n",
    "bravos_linear=bravo[bravo['distance_measure']=='linear'].speed\n",
    "\n",
    "volantis=df_clean_new[filter6]\n",
    "volantis_road=volantis[volantis['distance_measure']=='road'].speed\n",
    "volantis_linear=volantis[volantis['distance_measure']=='linear'].speed\n"
   ]
  },
  {
   "cell_type": "code",
   "execution_count": 97,
   "metadata": {},
   "outputs": [
    {
     "data": {
      "text/plain": [
       "'--> Null(H0) hypotesis rejected'"
      ]
     },
     "execution_count": 97,
     "metadata": {},
     "output_type": "execute_result"
    }
   ],
   "source": [
    "res=stats.ttest_ind(pentos_road, pentos_linear)\n",
    "checkPValue(res[1]/2)"
   ]
  },
  {
   "cell_type": "code",
   "execution_count": 98,
   "metadata": {},
   "outputs": [
    {
     "name": "stdout",
     "output_type": "stream",
     "text": [
      "pvalue= 0.033379292498573104\n"
     ]
    }
   ],
   "source": [
    "print('pvalue=',res[1]/2)"
   ]
  },
  {
   "cell_type": "code",
   "execution_count": 99,
   "metadata": {},
   "outputs": [
    {
     "data": {
      "text/plain": [
       "'--> We cannot reject the null hypotesis'"
      ]
     },
     "execution_count": 99,
     "metadata": {},
     "output_type": "execute_result"
    }
   ],
   "source": [
    "res1=stats.ttest_ind(bravos_road, bravos_linear)\n",
    "checkPValue(res1[1]/2)"
   ]
  },
  {
   "cell_type": "code",
   "execution_count": 100,
   "metadata": {},
   "outputs": [
    {
     "name": "stdout",
     "output_type": "stream",
     "text": [
      "pvalue= 0.44372787262716495\n"
     ]
    }
   ],
   "source": [
    "print('pvalue=',res1[1]/2)"
   ]
  },
  {
   "cell_type": "code",
   "execution_count": 101,
   "metadata": {},
   "outputs": [
    {
     "data": {
      "text/plain": [
       "'--> We cannot reject the null hypotesis'"
      ]
     },
     "execution_count": 101,
     "metadata": {},
     "output_type": "execute_result"
    }
   ],
   "source": [
    "res2=stats.ttest_ind(volantis_road, volantis_linear)\n",
    "checkPValue(res2[1]/2)"
   ]
  },
  {
   "cell_type": "code",
   "execution_count": 102,
   "metadata": {},
   "outputs": [
    {
     "name": "stdout",
     "output_type": "stream",
     "text": [
      "pvalue= 0.34659074556489466\n"
     ]
    }
   ],
   "source": [
    "print('pvalue=',res2[1]/2)"
   ]
  },
  {
   "cell_type": "markdown",
   "metadata": {},
   "source": [
    "According to the test **the p-value is larger than 5%**, the odds are quicker rides are due to chance in all the different cities."
   ]
  },
  {
   "cell_type": "code",
   "execution_count": 52,
   "metadata": {},
   "outputs": [
    {
     "data": {
      "text/plain": [
       "[Text(0, 0.5, 'speed [m/s]'), Text(0.5, 0, 'hour')]"
      ]
     },
     "execution_count": 52,
     "metadata": {},
     "output_type": "execute_result"
    },
    {
     "data": {
      "image/png": "[encoded data removed]",
      "text/plain": [
       "<Figure size 432x288 with 1 Axes>"
      ]
     },
     "metadata": {},
     "output_type": "display_data"
    }
   ],
   "source": [
    "#df_clean_new.groupby('city_id').agg({'speed':'mean'}).plot.bar()\n",
    "plt.figure(figsize=(6,4))\n",
    "ax = sns.barplot(x=\"city_id\", y=\"speed\", hue=\"distance_measure\", data=df_clean_new)\n",
    "plt.title('geographical_check')\n",
    "ax.set(xlabel='hour', ylabel='speed [m/s]')"
   ]
  },
  {
   "cell_type": "code",
   "execution_count": null,
   "metadata": {},
   "outputs": [],
   "source": []
  },
  {
   "cell_type": "markdown",
   "metadata": {},
   "source": [
    "## 3.3 Rush hours check [13-->20]"
   ]
  },
  {
   "cell_type": "markdown",
   "metadata": {},
   "source": [
    "H1: during the rush hour the pickups assigned with the api query are significantly faster"
   ]
  },
  {
   "cell_type": "code",
   "execution_count": 91,
   "metadata": {},
   "outputs": [],
   "source": [
    "filter7 = (df_clean_new['started_at_hour']>=13) & (df_clean_new['started_at_hour']<=20)\n",
    "df_rush=df_clean_new[filter7]\n"
   ]
  },
  {
   "cell_type": "code",
   "execution_count": 92,
   "metadata": {},
   "outputs": [],
   "source": [
    "filter4=df_rush['city_id']=='pentos'\n",
    "filter5=df_rush['city_id']=='bravos'\n",
    "filter6=df_rush['city_id']=='volantis'\n",
    "\n",
    "pentos=df_rush[filter4]\n",
    "pentos_road=pentos[pentos['distance_measure']=='road'].speed\n",
    "pentos_linear=pentos[pentos['distance_measure']=='linear'].speed\n",
    "\n",
    "bravos=df_rush[filter5]\n",
    "bravos_road=bravos[bravos['distance_measure']=='road'].speed\n",
    "bravos_linear=bravos[bravos['distance_measure']=='linear'].speed\n",
    "\n",
    "volantis=df_rush[filter6]\n",
    "volantis_road=volantis[volantis['distance_measure']=='road'].speed\n",
    "volantis_linear=volantis[volantis['distance_measure']=='linear'].speed\n"
   ]
  },
  {
   "cell_type": "code",
   "execution_count": 93,
   "metadata": {},
   "outputs": [
    {
     "data": {
      "text/plain": [
       "'--> Null(H0) hypotesis rejected'"
      ]
     },
     "execution_count": 93,
     "metadata": {},
     "output_type": "execute_result"
    }
   ],
   "source": [
    "res=stats.ttest_ind(pento_road, pento_linear)\n",
    "checkPValue(res[1]/2)"
   ]
  },
  {
   "cell_type": "code",
   "execution_count": 94,
   "metadata": {},
   "outputs": [
    {
     "data": {
      "text/plain": [
       "'--> We cannot reject the null hypotesis'"
      ]
     },
     "execution_count": 94,
     "metadata": {},
     "output_type": "execute_result"
    }
   ],
   "source": [
    "res=stats.ttest_ind(bravo_road, bravo_linear)\n",
    "checkPValue(res[1]/2)"
   ]
  },
  {
   "cell_type": "code",
   "execution_count": 95,
   "metadata": {},
   "outputs": [
    {
     "data": {
      "text/plain": [
       "'--> We cannot reject the null hypotesis'"
      ]
     },
     "execution_count": 95,
     "metadata": {},
     "output_type": "execute_result"
    }
   ],
   "source": [
    "res=stats.ttest_ind(volantis_road, volantis_linear)\n",
    "checkPValue(res[1]/2)"
   ]
  },
  {
   "cell_type": "markdown",
   "metadata": {},
   "source": [
    "According to the test **the p-value is larger than 5%**, the odds are quicker rides are due to chance in all the different cities, even during the rush hours."
   ]
  },
  {
   "cell_type": "markdown",
   "metadata": {},
   "source": [
    "# Answers"
   ]
  },
  {
   "cell_type": "markdown",
   "metadata": {},
   "source": [
    "`1.Should the company move towards road distance? What's the max price it would make sense to pay per query? (make all the assumptions you need, and make them explicit)`\n",
    "\n",
    "- I would not recommend the company to move towards road distance, since the cost does not have a relevant ROI.\n"
   ]
  },
  {
   "cell_type": "markdown",
   "metadata": {},
   "source": [
    "`2.How would you improve the experimental design? Would you collect any additional data?`\n",
    "\n",
    "- I would collect more data (1 month time span), since 2 days are not enough to get a good hypothesis test result. In fact the outcome might be influenced by bias o some events happening in those days.\n",
    "\n",
    "- In order to minimize the bias, I would divide the time available in 2 spans, and swap the two groups after the first span.\n",
    "\n",
    "- I would try use the api in the taxi navigator to compute the road to reach the destination and I would evaluate if the avg speed of the 'driving_to_destination' is higher due to less traffic. This would mean that I could predict exactly the time it takes to the destination (becouse I am using roads with less traffic) and use this as claim to gain reliability (I can tell to the customers exaclty the real time it takes to reach the destination)."
   ]
  },
  {
   "cell_type": "code",
   "execution_count": null,
   "metadata": {},
   "outputs": [],
   "source": []
  }
 ],
 "metadata": {
  "kernelspec": {
   "display_name": "Python 3",
   "language": "python",
   "name": "python3"
  },
  "language_info": {
   "codemirror_mode": {
    "name": "ipython",
    "version": 3
   },
   "file_extension": ".py",
   "mimetype": "text/x-python",
   "name": "python",
   "nbconvert_exporter": "python",
   "pygments_lexer": "ipython3",
   "version": "3.6.2"
  }
 },
 "nbformat": 4,
 "nbformat_minor": 2
}
